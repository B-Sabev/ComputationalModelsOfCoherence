{
 "cells": [
  {
   "cell_type": "code",
   "execution_count": 1,
   "metadata": {},
   "outputs": [],
   "source": [
    "import numpy as np\n",
    "import itertools\n",
    "import matplotlib.pyplot as plt"
   ]
  },
  {
   "cell_type": "code",
   "execution_count": 2,
   "metadata": {},
   "outputs": [
    {
     "data": {
      "text/plain": [
       "\"\\nAlgorithms from the paper:\\n\\nE - set of elements (in current code is nodes) - array N\\nC - set of constrains (in current code is W, or we refer to it as edges) - array NxN float (-1,1) \\nW - sum of weights of satisfied constrains (it implies that C are weighted and in the current code we don't have that)\\nMaximum coherence - it doesn't exist a partition of accepted and rejected E that has larger W\\n\\nAlgorithm 1: Exaustive\\n1. Generate all possible ways of dividing elements into accepted and rejected.\\n2. Evaluate each of these for the extent to which it achieves coherence. (in other words compute W for each partition)\\n3. Pick the one with highest value of W.\\n\\nAlgorithm 3: Connectionists\\n1. Initialize units (U for each element of E) to small positive value\\n2. Initialize weighted edges in accordance with the constrain rules\\n3. while units are not settled:\\n    update units according to the harmony equation\\n4. theshold the units with 0 - accepted are positive, rejected are negative\\n\""
      ]
     },
     "execution_count": 2,
     "metadata": {},
     "output_type": "execute_result"
    }
   ],
   "source": [
    "\"\"\"\n",
    "Algorithms from the paper:\n",
    "\n",
    "E - set of elements (in current code is nodes) - array N\n",
    "C - set of constrains (in current code is W, or we refer to it as edges) - array NxN float (-1,1) \n",
    "W - sum of weights of satisfied constrains (it implies that C are weighted and in the current code we don't have that)\n",
    "Maximum coherence - it doesn't exist a partition of accepted and rejected E that has larger W\n",
    "\n",
    "Algorithm 1: Exaustive\n",
    "1. Generate all possible ways of dividing elements into accepted and rejected.\n",
    "2. Evaluate each of these for the extent to which it achieves coherence. (in other words compute W for each partition)\n",
    "3. Pick the one with highest value of W.\n",
    "\n",
    "Algorithm 3: Connectionists\n",
    "1. Initialize units (U for each element of E) to small positive value\n",
    "2. Initialize weighted edges in accordance with the constrain rules\n",
    "3. while units are not settled:\n",
    "    update units according to the harmony equation\n",
    "4. theshold the units with 0 - accepted are positive, rejected are negative\n",
    "\"\"\""
   ]
  },
  {
   "cell_type": "code",
   "execution_count": 3,
   "metadata": {},
   "outputs": [],
   "source": [
    "def initC(n, seed=4040):\n",
    "    \"\"\"\n",
    "    Generate matrix of connections, floats between -1 and 1\n",
    "    \"\"\"\n",
    "    np.random.seed(seed)\n",
    "    W = np.random.rand(n,n)*2-1\n",
    "    for i in range(W.shape[0]):\n",
    "        for j in range(W.shape[1]):\n",
    "            if i == j:\n",
    "                W[i][j] = 0   # make diagonal zeros\n",
    "            else:\n",
    "                W[i][j] = W[j][i] # make symmetric\n",
    "    return W\n",
    "\n",
    "def all_possible_subsets(n):\n",
    "    \"\"\"\n",
    "    Generate all possible subsets of accepted(+1) and rejected(-1) elements\n",
    "    \"\"\"\n",
    "    all_nodes = np.zeros((2**n,n))\n",
    "\n",
    "    for i in range(2**n):\n",
    "        binary = np.array(list(bin(i)[2:])).astype(float)\n",
    "        if binary.shape[0] < n:\n",
    "            padding  = np.zeros(n-binary.shape[0])\n",
    "            all_nodes[i,:] = np.append(padding, binary)\n",
    "        else:\n",
    "            all_nodes[i,:] = binary\n",
    "    return np.where(all_nodes > 0, 1, -1)\n",
    "\n",
    "def computeW_slow(E,c):\n",
    "    \"\"\"\n",
    "    Compute the coherence(W/W*) for one assignment of nodes\n",
    "    \"\"\"\n",
    "    coherence = 0.0 \n",
    "    for i in range(c.shape[0]):\n",
    "        for j in range(i):\n",
    "            coherence += E[i] * E[j] * c[i,j]\n",
    "    coherence= coherence / np.sum(c) * 2 # because weights are twice in the matrix\n",
    "    return coherence\n",
    "\n",
    "def computeW(E,c):\n",
    "    \"\"\"\n",
    "    Compute the coherence(W/W*) for one assignment of nodes\n",
    "    \"\"\"\n",
    "    W = np.sum(c * np.dot(E.reshape(-1,1), E.reshape(1,-1)))   # W = C * E * E\n",
    "    return W / np.sum(c)   # W / W* \n"
   ]
  },
  {
   "cell_type": "code",
   "execution_count": 4,
   "metadata": {},
   "outputs": [
    {
     "ename": "NameError",
     "evalue": "name 'all_nodes' is not defined",
     "output_type": "error",
     "traceback": [
      "\u001b[1;31m---------------------------------------------------------------------------\u001b[0m",
      "\u001b[1;31mNameError\u001b[0m                                 Traceback (most recent call last)",
      "\u001b[1;32m<ipython-input-4-57a1f58ededa>\u001b[0m in \u001b[0;36m<module>\u001b[1;34m()\u001b[0m\n\u001b[0;32m      1\u001b[0m \u001b[1;31m# how to subset\u001b[0m\u001b[1;33m\u001b[0m\u001b[1;33m\u001b[0m\u001b[0m\n\u001b[1;32m----> 2\u001b[1;33m \u001b[0mprint\u001b[0m\u001b[1;33m(\u001b[0m\u001b[0mall_nodes\u001b[0m\u001b[1;33m[\u001b[0m\u001b[0mall_nodes\u001b[0m\u001b[1;33m[\u001b[0m\u001b[1;33m:\u001b[0m\u001b[1;33m,\u001b[0m\u001b[1;36m2\u001b[0m\u001b[1;33m]\u001b[0m \u001b[1;33m==\u001b[0m \u001b[1;36m1\u001b[0m\u001b[1;33m,\u001b[0m\u001b[1;33m]\u001b[0m\u001b[1;33m)\u001b[0m\u001b[1;33m\u001b[0m\u001b[0m\n\u001b[0m",
      "\u001b[1;31mNameError\u001b[0m: name 'all_nodes' is not defined"
     ]
    }
   ],
   "source": [
    "# how to subset all possible subsets\n",
    "print(all_nodes[all_nodes[:,2] == 1,])"
   ]
  },
  {
   "cell_type": "code",
   "execution_count": 9,
   "metadata": {},
   "outputs": [
    {
     "name": "stdout",
     "output_type": "stream",
     "text": [
      "Maximum coherence 2.1197 with truth assignment [-1  1  1  1 -1]\n"
     ]
    }
   ],
   "source": [
    "# Exaustive search\n",
    "\n",
    "n = 5\n",
    "c = initC(n)\n",
    "S = all_possible_subsets(n)\n",
    "\n",
    "W = np.zeros((S.shape[0],))\n",
    "for i,E in enumerate(S):\n",
    "    W[i] = computeW(E,c)\n",
    "    \n",
    "max_coh_index = np.argmax(W)\n",
    "\n",
    "print(\"Maximum coherence {:.4f} with truth assignment {}\".format(W[max_coh_index], S[max_coh_index, :]))"
   ]
  },
  {
   "cell_type": "code",
   "execution_count": null,
   "metadata": {},
   "outputs": [],
   "source": []
  },
  {
   "cell_type": "code",
   "execution_count": null,
   "metadata": {},
   "outputs": [],
   "source": []
  },
  {
   "cell_type": "code",
   "execution_count": null,
   "metadata": {},
   "outputs": [],
   "source": []
  },
  {
   "cell_type": "code",
   "execution_count": null,
   "metadata": {},
   "outputs": [],
   "source": []
  },
  {
   "cell_type": "code",
   "execution_count": null,
   "metadata": {},
   "outputs": [],
   "source": [
    "# Proof that compute W\n",
    "n = 6\n",
    "c = initC(n)\n",
    "S = all_possible_subsets(n)\n",
    "\n",
    "coherence = np.zeros((S.shape[0],))\n",
    "for i,E in enumerate(S):\n",
    "    coherence[i] = computeCoh(E,c)\n",
    "    print(computeW_slow(E,c) - computeW(E,c) < 1e-5)"
   ]
  }
 ],
 "metadata": {
  "kernelspec": {
   "display_name": "Python 3",
   "language": "python",
   "name": "python3"
  },
  "language_info": {
   "codemirror_mode": {
    "name": "ipython",
    "version": 3
   },
   "file_extension": ".py",
   "mimetype": "text/x-python",
   "name": "python",
   "nbconvert_exporter": "python",
   "pygments_lexer": "ipython3",
   "version": "3.5.4"
  }
 },
 "nbformat": 4,
 "nbformat_minor": 2
}
