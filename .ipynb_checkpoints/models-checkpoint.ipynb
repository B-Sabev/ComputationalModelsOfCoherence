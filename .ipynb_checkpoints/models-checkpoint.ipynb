{
 "cells": [
  {
   "cell_type": "code",
   "execution_count": 101,
   "metadata": {},
   "outputs": [],
   "source": [
    "import numpy as np\n",
    "import itertools\n",
    "import matplotlib.pyplot as plt"
   ]
  },
  {
   "cell_type": "code",
   "execution_count": 4,
   "metadata": {},
   "outputs": [
    {
     "data": {
      "text/plain": [
       "''"
      ]
     },
     "execution_count": 4,
     "metadata": {},
     "output_type": "execute_result"
    }
   ],
   "source": [
    "\"\"\"\n",
    "Algorithms from the paper:\n",
    "\n",
    "E - set of elements (in current code is nodes) - array N\n",
    "C - set of constrains (in current code is W, or we refer to it as edges) - array NxN float (-1,1) \n",
    "W - sum of weights of satisfied constrains (it implies that C are weighted and in the current code we don't have that)\n",
    "Maximum coherence - it doesn't exist a partition of accepted and rejected E that has larger W\n",
    "\n",
    "Algorithm 1: Exaustive\n",
    "1. Generate all possible ways of dividing elements into accepted and rejected.\n",
    "2. Evaluate each of these for the extent to which it achieves coherence. (in other words compute W for each partition)\n",
    "3. Pick the one with highest value of W.\n",
    "\n",
    "Algorithm 3: Connectionists\n",
    "1. Initialize units (U for each element of E) to small positive value\n",
    "2. Initialize weighted edges in accordance with the constrain rules\n",
    "3. while units are not settled:\n",
    "    update units according to the harmony equation\n",
    "4. theshold the units with 0 - accepted are positive, rejected are negative\n",
    "\"\"\""
   ]
  },
  {
   "cell_type": "code",
   "execution_count": 120,
   "metadata": {},
   "outputs": [],
   "source": [
    "def initC(n, seed=4040):\n",
    "    \"\"\"\n",
    "    Generate matrix of connections, floats between -1 and 1\n",
    "    \"\"\"\n",
    "    np.random.seed(seed)\n",
    "    W = np.random.rand(n,n)*2-1\n",
    "    for i in range(W.shape[0]):\n",
    "        for j in range(W.shape[1]):\n",
    "            if i == j:\n",
    "                W[i][j] = 0   # make diagonal zeros\n",
    "            else:\n",
    "                W[i][j] = W[j][i] # make symmetric\n",
    "    return W\n",
    "\n",
    "def all_possible_subsets(n):\n",
    "    \"\"\"\n",
    "    Generate all possible subsets of accepted(+1) and rejected(-1) elements\n",
    "    \"\"\"\n",
    "    all_nodes = np.zeros((2**n,n))\n",
    "\n",
    "    for i in range(2**n):\n",
    "        binary = np.array(list(bin(i)[2:])).astype(float)\n",
    "        if binary.shape[0] < n:\n",
    "            padding  = np.zeros(n-binary.shape[0])\n",
    "            all_nodes[i,:] = np.append(padding, binary)\n",
    "        else:\n",
    "            all_nodes[i,:] = binary\n",
    "    return np.where(all_nodes > 0, 1, -1)\n",
    "\n",
    "def computeW_slow(E,c):\n",
    "    \"\"\"\n",
    "    Compute the coherence(W/W*) for one assignment of nodes\n",
    "    \"\"\"\n",
    "    coherence = 0.0 \n",
    "    for i in range(c.shape[0]):\n",
    "        for j in range(i):\n",
    "            coherence += E[i] * E[j] * c[i,j]\n",
    "    coherence= coherence / np.sum(c) * 2 # because weights are twice in the matrix\n",
    "    return coherence\n",
    "\n",
    "def computeW(E,c):\n",
    "    \"\"\"\n",
    "    Compute the coherence(W/W*) for one assignment of nodes\n",
    "    \"\"\"\n",
    "    W = np.sum(c * np.dot(E.reshape(-1,1), E.reshape(1,-1)))   # W = C * E * E\n",
    "    return W / np.sum(c)   # W / W* \n"
   ]
  },
  {
   "cell_type": "code",
   "execution_count": 64,
   "metadata": {},
   "outputs": [
    {
     "name": "stdout",
     "output_type": "stream",
     "text": [
      "[[ 0.  0.  1.  0.  0.]\n",
      " [ 0.  0.  1.  0.  1.]\n",
      " [ 0.  0.  1.  1.  0.]\n",
      " [ 0.  0.  1.  1.  1.]\n",
      " [ 0.  1.  1.  0.  0.]\n",
      " [ 0.  1.  1.  0.  1.]\n",
      " [ 0.  1.  1.  1.  0.]\n",
      " [ 0.  1.  1.  1.  1.]\n",
      " [ 1.  0.  1.  0.  0.]\n",
      " [ 1.  0.  1.  0.  1.]\n",
      " [ 1.  0.  1.  1.  0.]\n",
      " [ 1.  0.  1.  1.  1.]\n",
      " [ 1.  1.  1.  0.  0.]\n",
      " [ 1.  1.  1.  0.  1.]\n",
      " [ 1.  1.  1.  1.  0.]\n",
      " [ 1.  1.  1.  1.  1.]]\n"
     ]
    }
   ],
   "source": [
    "# how to subset\n",
    "print(all_nodes[all_nodes[:,2] == 1,])"
   ]
  },
  {
   "cell_type": "code",
   "execution_count": 112,
   "metadata": {},
   "outputs": [
    {
     "name": "stdout",
     "output_type": "stream",
     "text": [
      "[-1  1  1  1 -1]\n",
      "2.11969634183\n"
     ]
    }
   ],
   "source": [
    "n = 5\n",
    "c = initC(n)\n",
    "S = all_possible_subsets(n)\n",
    "\n",
    "coherence = np.zeros((S.shape[0],))\n",
    "for i,E in enumerate(S):\n",
    "    coherence[i] = computeCoh(E,c)\n",
    "    \n",
    "max_coh_index = np.argmax(coherence)\n",
    "\n",
    "print(S[max_coh_index, :])\n",
    "print(coherence[max_coh_index])"
   ]
  },
  {
   "cell_type": "code",
   "execution_count": null,
   "metadata": {},
   "outputs": [],
   "source": []
  },
  {
   "cell_type": "code",
   "execution_count": null,
   "metadata": {},
   "outputs": [],
   "source": []
  },
  {
   "cell_type": "code",
   "execution_count": null,
   "metadata": {},
   "outputs": [],
   "source": []
  },
  {
   "cell_type": "code",
   "execution_count": null,
   "metadata": {},
   "outputs": [],
   "source": []
  },
  {
   "cell_type": "code",
   "execution_count": 119,
   "metadata": {},
   "outputs": [
    {
     "name": "stdout",
     "output_type": "stream",
     "text": [
      "True\n",
      "True\n",
      "True\n",
      "True\n",
      "True\n",
      "True\n",
      "True\n",
      "True\n",
      "True\n",
      "True\n",
      "True\n",
      "True\n",
      "True\n",
      "True\n",
      "True\n",
      "True\n",
      "True\n",
      "True\n",
      "True\n",
      "True\n",
      "True\n",
      "True\n",
      "True\n",
      "True\n",
      "True\n",
      "True\n",
      "True\n",
      "True\n",
      "True\n",
      "True\n",
      "True\n",
      "True\n",
      "True\n",
      "True\n",
      "True\n",
      "True\n",
      "True\n",
      "True\n",
      "True\n",
      "True\n",
      "True\n",
      "True\n",
      "True\n",
      "True\n",
      "True\n",
      "True\n",
      "True\n",
      "True\n",
      "True\n",
      "True\n",
      "True\n",
      "True\n",
      "True\n",
      "True\n",
      "True\n",
      "True\n",
      "True\n",
      "True\n",
      "True\n",
      "True\n",
      "True\n",
      "True\n",
      "True\n",
      "True\n"
     ]
    }
   ],
   "source": [
    "# Proof that compute W\n",
    "n = 6\n",
    "c = initC(n)\n",
    "S = all_possible_subsets(n)\n",
    "\n",
    "coherence = np.zeros((S.shape[0],))\n",
    "for i,E in enumerate(S):\n",
    "    coherence[i] = computeCoh(E,c)\n",
    "    print(computeW_slow(E,c) - computeW(E,c) < 1e-5)"
   ]
  }
 ],
 "metadata": {
  "kernelspec": {
   "display_name": "Python 3",
   "language": "python",
   "name": "python3"
  },
  "language_info": {
   "codemirror_mode": {
    "name": "ipython",
    "version": 3
   },
   "file_extension": ".py",
   "mimetype": "text/x-python",
   "name": "python",
   "nbconvert_exporter": "python",
   "pygments_lexer": "ipython3",
   "version": "3.5.4"
  }
 },
 "nbformat": 4,
 "nbformat_minor": 2
}
