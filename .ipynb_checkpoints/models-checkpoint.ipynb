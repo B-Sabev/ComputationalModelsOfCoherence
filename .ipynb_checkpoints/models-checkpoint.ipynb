{
 "cells": [
  {
   "cell_type": "code",
   "execution_count": 14,
   "metadata": {},
   "outputs": [],
   "source": [
    "import numpy as np\n",
    "import itertools"
   ]
  },
  {
   "cell_type": "code",
<<<<<<< Updated upstream
   "execution_count": 4,
=======
   "execution_count": 15,
>>>>>>> Stashed changes
   "metadata": {},
   "outputs": [
    {
     "data": {
      "text/plain": [
       "''"
      ]
     },
<<<<<<< Updated upstream
     "execution_count": 4,
=======
     "execution_count": 15,
>>>>>>> Stashed changes
     "metadata": {},
     "output_type": "execute_result"
    }
   ],
   "source": [
    "\"\"\"\n",
    "Algorithms from the paper:\n",
    "\n",
    "E - set of elements (in current code is nodes) - array N\n",
    "C - set of constrains (in current code is W, or we refer to it as edges) - array NxN float (-1,1) \n",
    "W - sum of weights of satisfied constrains (it implies that C are weighted and in the current code we don't have that)\n",
    "Maximum coherence - it doesn't exist a partition of accepted and rejected E that has larger W\n",
    "\n",
    "Algorithm 1: Exaustive\n",
    "1. Generate all possible ways of dividing elements into accepted and rejected.\n",
    "2. Evaluate each of these for the extent to which it achieves coherence. (in other words compute W for each partition)\n",
    "3. Pick the one with highest value of W.\n",
    "\n",
    "Algorithm 3: Connectionists\n",
    "1. Initialize units (U for each element of E) to small positive value\n",
    "2. Initialize weighted edges in accordance with the constrain rules\n",
    "3. while units are not settled:\n",
    "    update units according to the harmony equation\n",
    "4. theshold the units with 0 - accepted are positive, rejected are negative\n",
    "\"\"\""
   ]
  },
  {
   "cell_type": "code",
<<<<<<< Updated upstream
   "execution_count": 68,
=======
   "execution_count": 55,
>>>>>>> Stashed changes
   "metadata": {},
   "outputs": [],
   "source": [
    "def initC(n, seed=4040):\n",
    "    \"\"\"\n",
    "    Generate matrix of connections, floats between -1 and 1\n",
    "    \"\"\"\n",
    "    np.random.seed(seed)\n",
    "    W = np.random.rand(n,n)*2-1\n",
    "    for i in range(W.shape[0]):\n",
    "        for j in range(W.shape[1]):\n",
    "            if i == j:\n",
    "                W[i][j] = 0   # make diagonal zeros\n",
    "            else:\n",
    "                W[i][j] = W[j][i] # make symmetric\n",
    "    return W\n",
    "\n",
<<<<<<< Updated upstream
    "def all_possible_subsets(n):\n",
    "    \"\"\"\n",
    "    Generate all possible subsets of accepted(+1) and rejected(-1) elements\n",
    "    \"\"\"\n",
    "    all_nodes = np.zeros((2**n,n))\n",
    "\n",
    "    for i in range(2**n):\n",
    "        binary = np.array(list(bin(i)[2:])).astype(float)\n",
    "        if binary.shape[0] < n:\n",
    "            padding  = np.zeros(n-binary.shape[0])\n",
    "            all_nodes[i,:] = np.append(padding, binary)\n",
    "        else:\n",
    "            all_nodes[i,:] = binary\n",
    "    return np.where(all_nodes > 0, 1, -1)"
=======
    "def subsets(nodes):\n",
    "    subsets_raw = []\n",
    "    # give all possible subsets of accepted nodes\n",
    "    for i in range(nodes.shape[0]+1):\n",
    "        subsets_raw.append(list(itertools.combinations(nodes, i)))\n",
    "    subs = []\n",
    "    final = []\n",
    "    for l in subsets_raw:\n",
    "        for e in l:\n",
    "            subs.append(e)\n",
    "    \n",
    "    for t in subs:\n",
    "        final.append(t)\n",
    "    \n",
    "        \n",
    "    print(final)\n",
    "    \n",
    "    return subs"
>>>>>>> Stashed changes
   ]
  },
  {
   "cell_type": "code",
<<<<<<< Updated upstream
   "execution_count": 64,
=======
   "execution_count": 56,
>>>>>>> Stashed changes
   "metadata": {},
   "outputs": [
    {
     "name": "stdout",
     "output_type": "stream",
     "text": [
<<<<<<< Updated upstream
      "[[ 0.  0.  1.  0.  0.]\n",
      " [ 0.  0.  1.  0.  1.]\n",
      " [ 0.  0.  1.  1.  0.]\n",
      " [ 0.  0.  1.  1.  1.]\n",
      " [ 0.  1.  1.  0.  0.]\n",
      " [ 0.  1.  1.  0.  1.]\n",
      " [ 0.  1.  1.  1.  0.]\n",
      " [ 0.  1.  1.  1.  1.]\n",
      " [ 1.  0.  1.  0.  0.]\n",
      " [ 1.  0.  1.  0.  1.]\n",
      " [ 1.  0.  1.  1.  0.]\n",
      " [ 1.  0.  1.  1.  1.]\n",
      " [ 1.  1.  1.  0.  0.]\n",
      " [ 1.  1.  1.  0.  1.]\n",
      " [ 1.  1.  1.  1.  0.]\n",
      " [ 1.  1.  1.  1.  1.]]\n"
=======
      "[(-1, -1, -1, -1, -1), (-1, -1, -1, -1, -1), (-1, -1, -1, -1, -1), (-1, -1, -1, -1, -1), (-1, -1, -1, -1, -1), (-1, -1, -1, -1, -1), (-1, -1, -1, -1, -1), (-1, -1, -1, -1, -1), (-1, -1, -1, -1, -1), (-1, -1, -1, -1, -1), (-1, -1, -1, -1, -1), (-1, -1, -1, -1, -1), (-1, -1, -1, -1, -1), (-1, -1, -1, -1, -1), (-1, -1, -1, -1, -1), (-1, -1, -1, -1, -1), (-1, -1, -1, -1, -1), (-1, -1, -1, -1, -1), (-1, -1, -1, -1, -1), (-1, -1, -1, -1, -1), (-1, -1, -1, -1, -1), (-1, -1, -1, -1, -1), (-1, -1, -1, -1, -1), (-1, -1, -1, -1, -1), (-1, -1, -1, -1, -1), (-1, -1, -1, -1, -1), (-1, -1, -1, -1, -1), (-1, -1, -1, -1, -1), (-1, -1, -1, -1, -1), (-1, -1, -1, -1, -1), (-1, -1, -1, -1, -1), (-1, -1, -1, -1, -1)]\n"
>>>>>>> Stashed changes
     ]
    }
   ],
   "source": [
<<<<<<< Updated upstream
    "# how to subset\n",
    "print(all_nodes[all_nodes[:,2] == 1,])"
=======
    "n = 5\n",
    "\n",
    "W = initW(n)          # initialize edges\n",
    "nodes = np.arange(n)  # init nodes\n",
    "\n",
    "s = subsets(nodes)\n"
>>>>>>> Stashed changes
   ]
  },
  {
   "cell_type": "code",
   "execution_count": null,
   "metadata": {},
   "outputs": [],
   "source": []
  },
  {
   "cell_type": "code",
<<<<<<< Updated upstream
   "execution_count": null,
=======
   "execution_count": 18,
>>>>>>> Stashed changes
   "metadata": {},
   "outputs": [],
   "source": []
  },
  {
   "cell_type": "code",
   "execution_count": null,
   "metadata": {},
   "outputs": [],
   "source": []
  },
  {
   "cell_type": "code",
   "execution_count": null,
   "metadata": {},
   "outputs": [],
   "source": []
  },
  {
   "cell_type": "code",
   "execution_count": null,
   "metadata": {},
   "outputs": [],
   "source": []
  },
  {
   "cell_type": "code",
<<<<<<< Updated upstream
   "execution_count": 49,
=======
   "execution_count": 19,
>>>>>>> Stashed changes
   "metadata": {},
   "outputs": [
    {
     "name": "stdout",
     "output_type": "stream",
     "text": [
      "w = 0, vi = 1, vj = 0\n",
      "w = -1, vi = 2, vj = 0\n",
      "w = 1, vi = 2, vj = 1\n",
      "w = -1, vi = 3, vj = 0\n",
      "w = -1, vi = 3, vj = 1\n",
      "w = -1, vi = 3, vj = 2\n",
      "w = -1, vi = 4, vj = 0\n",
      "w = 1, vi = 4, vj = 1\n",
      "w = 0, vi = 4, vj = 2\n",
      "w = -1, vi = 4, vj = 3\n",
      "-15\n"
     ]
    }
   ],
   "source": [
    "# make nodes an array of -1 for rejected, +1 for accepted\n",
    "nodes = np.random.randint(2,size=5) * 2 - 1\n",
    "\n",
    "\n",
    "# compute coherence\n",
    "coh = 0\n",
    "# How to get the lower diagonal of W\n",
    "for i in range(W.shape[0]):\n",
    "    for j in range(i):\n",
    "        print(\"w = {}, vi = {}, vj = {}\".format(W[i][j], i, j))\n",
    "        coh += W[i][j] * nodes[i] * nodes[j]\n",
    "print(coh)"
   ]
  },
  {
   "cell_type": "code",
   "execution_count": 3,
   "metadata": {},
   "outputs": [],
   "source": []
  },
  {
   "cell_type": "code",
   "execution_count": 59,
   "metadata": {},
   "outputs": [],
   "source": []
  },
  {
   "cell_type": "code",
   "execution_count": null,
   "metadata": {},
   "outputs": [],
   "source": []
  },
  {
   "cell_type": "code",
   "execution_count": 25,
   "metadata": {},
   "outputs": [
    {
     "ename": "AttributeError",
     "evalue": "'int' object has no attribute 'shape'",
     "output_type": "error",
     "traceback": [
      "\u001b[1;31m---------------------------------------------------------------------------\u001b[0m",
      "\u001b[1;31mAttributeError\u001b[0m                            Traceback (most recent call last)",
      "\u001b[1;32m<ipython-input-25-d40b64719890>\u001b[0m in \u001b[0;36m<module>\u001b[1;34m()\u001b[0m\n\u001b[0;32m      9\u001b[0m             \u001b[0msubs\u001b[0m\u001b[1;33m.\u001b[0m\u001b[0mappend\u001b[0m\u001b[1;33m(\u001b[0m\u001b[0me\u001b[0m\u001b[1;33m)\u001b[0m\u001b[1;33m\u001b[0m\u001b[0m\n\u001b[0;32m     10\u001b[0m     \u001b[1;32mreturn\u001b[0m \u001b[0msubs\u001b[0m\u001b[1;33m\u001b[0m\u001b[0m\n\u001b[1;32m---> 11\u001b[1;33m \u001b[0mprint\u001b[0m\u001b[1;33m(\u001b[0m\u001b[0msubsets\u001b[0m\u001b[1;33m(\u001b[0m\u001b[1;36m5\u001b[0m\u001b[1;33m)\u001b[0m\u001b[1;33m)\u001b[0m\u001b[1;33m\u001b[0m\u001b[0m\n\u001b[0m",
      "\u001b[1;32m<ipython-input-25-d40b64719890>\u001b[0m in \u001b[0;36msubsets\u001b[1;34m(nodes)\u001b[0m\n\u001b[0;32m      2\u001b[0m     \u001b[0msubsets_raw\u001b[0m \u001b[1;33m=\u001b[0m \u001b[1;33m[\u001b[0m\u001b[1;33m]\u001b[0m\u001b[1;33m\u001b[0m\u001b[0m\n\u001b[0;32m      3\u001b[0m     \u001b[1;31m# give all possible subsets of accepted nodes\u001b[0m\u001b[1;33m\u001b[0m\u001b[1;33m\u001b[0m\u001b[0m\n\u001b[1;32m----> 4\u001b[1;33m     \u001b[1;32mfor\u001b[0m \u001b[0mi\u001b[0m \u001b[1;32min\u001b[0m \u001b[0mrange\u001b[0m\u001b[1;33m(\u001b[0m\u001b[0mnodes\u001b[0m\u001b[1;33m.\u001b[0m\u001b[0mshape\u001b[0m\u001b[1;33m[\u001b[0m\u001b[1;36m0\u001b[0m\u001b[1;33m]\u001b[0m\u001b[1;33m+\u001b[0m\u001b[1;36m1\u001b[0m\u001b[1;33m)\u001b[0m\u001b[1;33m:\u001b[0m\u001b[1;33m\u001b[0m\u001b[0m\n\u001b[0m\u001b[0;32m      5\u001b[0m         \u001b[0msubsets_raw\u001b[0m\u001b[1;33m.\u001b[0m\u001b[0mappend\u001b[0m\u001b[1;33m(\u001b[0m\u001b[0mlist\u001b[0m\u001b[1;33m(\u001b[0m\u001b[0mitertools\u001b[0m\u001b[1;33m.\u001b[0m\u001b[0mcombinations\u001b[0m\u001b[1;33m(\u001b[0m\u001b[0mnodes\u001b[0m\u001b[1;33m,\u001b[0m \u001b[0mi\u001b[0m\u001b[1;33m)\u001b[0m\u001b[1;33m)\u001b[0m\u001b[1;33m)\u001b[0m\u001b[1;33m\u001b[0m\u001b[0m\n\u001b[0;32m      6\u001b[0m     \u001b[0msubs\u001b[0m \u001b[1;33m=\u001b[0m \u001b[1;33m[\u001b[0m\u001b[1;33m]\u001b[0m\u001b[1;33m\u001b[0m\u001b[0m\n",
      "\u001b[1;31mAttributeError\u001b[0m: 'int' object has no attribute 'shape'"
     ]
    }
   ],
   "source": []
  },
  {
   "cell_type": "code",
   "execution_count": null,
   "metadata": {},
   "outputs": [],
   "source": []
  }
 ],
 "metadata": {
  "kernelspec": {
   "display_name": "Python 3",
   "language": "python",
   "name": "python3"
  },
  "language_info": {
   "codemirror_mode": {
    "name": "ipython",
    "version": 3
   },
   "file_extension": ".py",
   "mimetype": "text/x-python",
   "name": "python",
   "nbconvert_exporter": "python",
   "pygments_lexer": "ipython3",
   "version": "3.5.4"
  }
 },
 "nbformat": 4,
 "nbformat_minor": 2
}
