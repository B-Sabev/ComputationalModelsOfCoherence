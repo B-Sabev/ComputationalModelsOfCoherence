{
 "cells": [
  {
   "cell_type": "code",
   "execution_count": 7,
   "metadata": {},
   "outputs": [],
   "source": [
    "import numpy as np\n",
    "import itertools"
   ]
  },
  {
   "cell_type": "code",
   "execution_count": 33,
   "metadata": {},
   "outputs": [],
   "source": [
    "def initW(n=5, seed=4040):\n",
    "    # Generate matrix with values -1,0,1\n",
    "    np.random.seed(seed)\n",
    "    W = np.random.randint(-1,2,n**2).reshape(n,n)\n",
    "    for i in range(W.shape[0]):\n",
    "        for j in range(W.shape[1]):\n",
    "            if i == j:\n",
    "                W[i][j] = 0   # make diagonal zeros\n",
    "            else:\n",
    "                W[i][j] = W[j][i] # make symmetric\n",
    "    return W\n",
    "\n",
    "def subsets(nodes):\n",
    "    subsets_raw = []\n",
    "    # give all possible subsets of accepted nodes\n",
    "    for i in range(nodes.shape[0]+1):\n",
    "        subsets_raw.append(list(itertools.combinations(nodes, i)))\n",
    "    subs = []    \n",
    "    for l in subsets_raw:\n",
    "        for e in l:\n",
    "            subs.append(e)\n",
    "    return subs"
   ]
  },
  {
   "cell_type": "code",
   "execution_count": 34,
   "metadata": {},
   "outputs": [
    {
     "name": "stdout",
     "output_type": "stream",
     "text": [
      "[(), (0,), (1,), (2,), (3,), (4,), (0, 1), (0, 2), (0, 3), (0, 4), (1, 2), (1, 3), (1, 4), (2, 3), (2, 4), (3, 4), (0, 1, 2), (0, 1, 3), (0, 1, 4), (0, 2, 3), (0, 2, 4), (0, 3, 4), (1, 2, 3), (1, 2, 4), (1, 3, 4), (2, 3, 4), (0, 1, 2, 3), (0, 1, 2, 4), (0, 1, 3, 4), (0, 2, 3, 4), (1, 2, 3, 4), (0, 1, 2, 3, 4)]\n"
     ]
    }
   ],
   "source": [
    "n = 5\n",
    "\n",
    "W = initW(n)          # initialize edges\n",
    "nodes = np.arange(n)  # init nodes\n",
    "\n",
    "s = subsets(nodes)\n",
    "print(s)\n"
   ]
  },
  {
   "cell_type": "code",
   "execution_count": 35,
   "metadata": {},
   "outputs": [
    {
     "data": {
      "text/plain": [
       "array([[ 0,  0, -1, -1, -1],\n",
       "       [ 0,  0,  1, -1,  1],\n",
       "       [-1,  1,  0, -1,  0],\n",
       "       [-1, -1, -1,  0, -1],\n",
       "       [-1,  1,  0, -1,  0]])"
      ]
     },
     "execution_count": 35,
     "metadata": {},
     "output_type": "execute_result"
    }
   ],
   "source": []
  },
  {
   "cell_type": "code",
   "execution_count": 66,
   "metadata": {},
   "outputs": [
    {
     "name": "stdout",
     "output_type": "stream",
     "text": [
      "[(-1, -1, -1, -1), (-1, -1, -1, 1), (-1, -1, 1, 1), (-1, 1, 1, 1), (1, 1, 1, 1)]\n"
     ]
    }
   ],
   "source": [
    "# Cleaner way to make subsets of 1s and -1s\n",
    "from itertools import combinations_with_replacement\n",
    "\n",
    "subsets = []\n",
    "for comb in combinations_with_replacement([-1,1],4):\n",
    "    subsets.append(comb)\n",
    "print(subsets)"
   ]
  },
  {
   "cell_type": "code",
   "execution_count": 49,
   "metadata": {},
   "outputs": [
    {
     "name": "stdout",
     "output_type": "stream",
     "text": [
      "w = 0, vi = 1, vj = 0\n",
      "w = -1, vi = 2, vj = 0\n",
      "w = 1, vi = 2, vj = 1\n",
      "w = -1, vi = 3, vj = 0\n",
      "w = -1, vi = 3, vj = 1\n",
      "w = -1, vi = 3, vj = 2\n",
      "w = -1, vi = 4, vj = 0\n",
      "w = 1, vi = 4, vj = 1\n",
      "w = 0, vi = 4, vj = 2\n",
      "w = -1, vi = 4, vj = 3\n",
      "-15\n"
     ]
    }
   ],
   "source": [
    "# make nodes an array of -1 for rejected, +1 for accepted\n",
    "nodes = np.random.randint(2,size=5) * 2 - 1\n",
    "\n",
    "\n",
    "# compute coherence\n",
    "coh = 0\n",
    "# How to get the lower diagonal of W\n",
    "for i in range(W.shape[0]):\n",
    "    for j in range(i):\n",
    "        print(\"w = {}, vi = {}, vj = {}\".format(W[i][j], i, j))\n",
    "        coh += W[i][j] * nodes[i] * nodes[j]\n",
    "print(coh)"
   ]
  },
  {
   "cell_type": "code",
   "execution_count": null,
   "metadata": {},
   "outputs": [],
   "source": []
  },
  {
   "cell_type": "code",
   "execution_count": 59,
   "metadata": {},
   "outputs": [],
   "source": []
  },
  {
   "cell_type": "code",
   "execution_count": 65,
   "metadata": {},
   "outputs": [
    {
     "name": "stdout",
     "output_type": "stream",
     "text": [
      "[(-1, -1, -1, -1), (-1, -1, -1, 1), (-1, -1, 1, 1), (-1, 1, 1, 1), (1, 1, 1, 1)]\n"
     ]
    }
   ],
   "source": []
  },
  {
   "cell_type": "code",
   "execution_count": null,
   "metadata": {},
   "outputs": [],
   "source": []
  }
 ],
 "metadata": {
  "kernelspec": {
   "display_name": "Python 3",
   "language": "python",
   "name": "python3"
  },
  "language_info": {
   "codemirror_mode": {
    "name": "ipython",
    "version": 3
   },
   "file_extension": ".py",
   "mimetype": "text/x-python",
   "name": "python",
   "nbconvert_exporter": "python",
   "pygments_lexer": "ipython3",
   "version": "3.5.4"
  }
 },
 "nbformat": 4,
 "nbformat_minor": 2
}
