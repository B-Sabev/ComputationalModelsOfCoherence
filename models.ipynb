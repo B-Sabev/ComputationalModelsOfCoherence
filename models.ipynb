{
 "cells": [
  {
   "cell_type": "code",
   "execution_count": 1,
   "metadata": {},
   "outputs": [],
   "source": [
    "import numpy as np\n",
    "import itertools\n",
    "import matplotlib.pyplot as plt"
   ]
  },
  {
   "cell_type": "code",
   "execution_count": 2,
   "metadata": {},
   "outputs": [
    {
     "data": {
      "text/plain": [
       "\"\\nAlgorithms from the paper:\\n\\nE - set of elements (in current code is nodes) - array N\\nC - set of constrains (in current code is W, or we refer to it as edges) - array NxN float (-1,1) \\nW - sum of weights of satisfied constrains (it implies that C are weighted and in the current code we don't have that)\\nMaximum coherence - it doesn't exist a partition of accepted and rejected E that has larger W\\n\\nAlgorithm 1: Exaustive\\n1. Generate all possible ways of dividing elements into accepted and rejected.\\n2. Evaluate each of these for the extent to which it achieves coherence. (in other words compute W for each partition)\\n3. Pick the one with highest value of W.\\n\\nAlgorithm 3: Connectionists\\n1. Initialize units (U for each element of E) to small positive value\\n2. Initialize weighted edges in accordance with the constrain rules\\n3. while units are not settled:\\n    update units according to the harmony equation\\n4. theshold the units with 0 - accepted are positive, rejected are negative\\n\""
      ]
     },
     "execution_count": 2,
     "metadata": {},
     "output_type": "execute_result"
    }
   ],
   "source": [
    "\"\"\"\n",
    "Algorithms from the paper:\n",
    "\n",
    "E - set of elements (in current code is nodes) - array N\n",
    "C - set of constrains (in current code is W, or we refer to it as edges) - array NxN float (-1,1) \n",
    "W - sum of weights of satisfied constrains (it implies that C are weighted and in the current code we don't have that)\n",
    "Maximum coherence - it doesn't exist a partition of accepted and rejected E that has larger W\n",
    "\n",
    "Algorithm 1: Exaustive\n",
    "1. Generate all possible ways of dividing elements into accepted and rejected.\n",
    "2. Evaluate each of these for the extent to which it achieves coherence. (in other words compute W for each partition)\n",
    "3. Pick the one with highest value of W.\n",
    "\n",
    "Algorithm 3: Connectionists\n",
    "1. Initialize units (U for each element of E) to small positive value\n",
    "2. Initialize weighted edges in accordance with the constrain rules\n",
    "3. while units are not settled:\n",
    "    update units according to the harmony equation\n",
    "4. theshold the units with 0 - accepted are positive, rejected are negative\n",
    "\"\"\""
   ]
  },
  {
   "cell_type": "code",
   "execution_count": 62,
   "metadata": {},
   "outputs": [],
   "source": [
    "def initC(n, seed=4040):\n",
    "    \"\"\"\n",
    "    Generate matrix of connections, floats between -1 and 1\n",
    "    \"\"\"\n",
    "    np.random.seed(seed)\n",
    "    W = np.random.rand(n,n)*2-1\n",
    "    for i in range(W.shape[0]):\n",
    "        for j in range(W.shape[1]):\n",
    "            if i == j:\n",
    "                W[i][j] = 0   # make diagonal zeros\n",
    "            else:\n",
    "                W[i][j] = W[j][i] # make symmetric\n",
    "    return W\n",
    "\n",
    "def all_possible_subsets(n):\n",
    "    \"\"\"\n",
    "    Generate all possible subsets of accepted(+1) and rejected(-1) elements\n",
    "    \"\"\"\n",
    "    all_nodes = np.zeros((2**n,n))\n",
    "\n",
    "    for i in range(2**n):\n",
    "        binary = np.array(list(bin(i)[2:])).astype(float)\n",
    "        if binary.shape[0] < n:\n",
    "            padding  = np.zeros(n-binary.shape[0])\n",
    "            all_nodes[i,:] = np.append(padding, binary)\n",
    "        else:\n",
    "            all_nodes[i,:] = binary\n",
    "    return np.where(all_nodes > 0, 1, -1)\n",
    "\n",
    "def computeW_slow(E,c):\n",
    "    \"\"\"\n",
    "    Compute the coherence(W/W*) for one assignment of nodes\n",
    "    \"\"\"\n",
    "    coherence = 0.0 \n",
    "    for i in range(c.shape[0]):\n",
    "        for j in range(i):\n",
    "            coherence += E[i] * E[j] * c[i,j]\n",
    "    coherence= coherence / np.sum(c) * 2 # because weights are twice in the matrix\n",
    "    return coherence\n",
    "\n",
    "def computeW(E,c):\n",
    "    \"\"\"\n",
    "    Compute the coherence(W/W*) for one assignment of nodes\n",
    "    \"\"\"\n",
    "    W = np.sum(c * np.dot(E.reshape(-1,1), E.reshape(1,-1)))   # W = C * E * E\n",
    "    return W / np.sum(c)   # W / W* \n",
    "\n",
    "def connectionistC(c_, D):\n",
    "    # Refer to slides about why we chose this value assignment\n",
    "    c = np.where(c_>0, 0.4, c_)  # set all excitatory connections to 0.4\n",
    "    c = np.where(c<0, -0.6, c)   # set all inhibitory connections to -0.6\n",
    "    \n",
    "    c[D,:] = 0.5       # Set all d to s connections to 0.5 \n",
    "    c[:,D] = 0.5\n",
    "    c[D,D] = 0                   # Remove connections between d and d\n",
    "    return c\n"
   ]
  },
  {
   "cell_type": "code",
   "execution_count": null,
   "metadata": {},
   "outputs": [],
   "source": []
  },
  {
   "cell_type": "code",
   "execution_count": 198,
   "metadata": {},
   "outputs": [
    {
     "name": "stdout",
     "output_type": "stream",
     "text": [
      "[ 0.  0.  0.  0.  0.  0.  0.  0.  0.  0.]\n",
      "(1.6567164179104474, array([ 1,  1, -1,  1, -1,  1,  1,  1,  1,  1]))\n"
     ]
    }
   ],
   "source": [
    "G = CoherenceGraph(10, [1,5])\n",
    "G.initConnections(4040)\n",
    "print(G.v)\n",
    "ConCoh = ConnectionistModel(G, 0.1, numCycles=200, min_max=(-1,1), decay=0.05)\n",
    "\n",
    "ConCoh.updateGraph()\n",
    "\n",
    "\n",
    "print(ConCoh.getSolution())\n",
    "\n",
    "\n"
   ]
  },
  {
   "cell_type": "code",
   "execution_count": 193,
   "metadata": {},
   "outputs": [],
   "source": [
    "class ConnectionistModel(object):\n",
    "    \n",
    "    def __init__(self, graph, initState=0.05, numCycles=200, min_max=(-1,1), decay=0.05):\n",
    "        self.graph = graph\n",
    "        self.initState = initState\n",
    "        self.numCycles = numCycles\n",
    "        self.min_max = min_max\n",
    "        self.decay = decay\n",
    "        self.units = None\n",
    "        \n",
    "    def initUnits(self):\n",
    "        v_init = np.repeat(self.initState, self.graph.n) # make array lenght n filled with unit_value\n",
    "        v_init[self.graph.s] = 1                     # set the special elements of s to true\n",
    "        self.units = v_init\n",
    "        \n",
    "    def updateGraph(self):\n",
    "        self.initUnits()\n",
    "        v = self.units.copy()\n",
    "        for _ in range(self.numCycles): # for total number of cycles\n",
    "            for i in range(self.graph.n): # for every unit in the graph\n",
    "                if i not in self.graph.s: # if the unit is not a special fixed value s\n",
    "                    net = np.dot(v, self.graph.c[i]) # compute total flow to the unit\n",
    "                    if net > 0:\n",
    "                        gradient = net*(1-v[i])\n",
    "                    else:\n",
    "                        gradient = net*(v[i]-(-1))\n",
    "                    v[i] = v[i]*(1-self.decay) + gradient\n",
    "            # should this be after every unit update, or after the whole graph updates ??\n",
    "            v = np.where(v>1, 1, v)\n",
    "            v = np.where(v<-1,-1,v)\n",
    "        self.units = v\n",
    "        \n",
    "    def getSolution(self):\n",
    "        # theshold and compute final W\n",
    "        v = np.where(self.units > 0, 1, -1)\n",
    "        self.graph.setV(v)\n",
    "        self.graph.computeW()\n",
    "        return (self.graph.W, self.graph.v)\n",
    "        \n",
    "        \n",
    "        \n"
   ]
  },
  {
   "cell_type": "code",
   "execution_count": 195,
   "metadata": {},
   "outputs": [
    {
     "name": "stdout",
     "output_type": "stream",
     "text": [
      "Harmony 1.6567 with truth assignment [ 1  1 -1  1 -1  1  1  1  1  1]\n"
     ]
    }
   ],
   "source": [
    "# Connectionist model\n",
    "\"\"\"\n",
    "Algorithm 3: Connectionists\n",
    "1. Initialize units (U for each element of E) to small positive value\n",
    "2. Initialize weighted edges in accordance with the constrain rules\n",
    "3. while units are not settled:\n",
    "    update units according to the harmony equation\n",
    "4. theshold the units with 0 - accepted are positive, rejected are negative\n",
    "\"\"\"\n",
    "n = 10\n",
    "c = initC(n)\n",
    "# init random values for the vertices\n",
    "v = np.ones(n) / 10.\n",
    "D = [1,5]\n",
    "v[D] = 1\n",
    "c = connectionistC(c, D)\n",
    "\n",
    "\n",
    "\n",
    "d = 0.05 # decay\n",
    "\n",
    "for steps in range(200):\n",
    "    # update units\n",
    "    for i in range(v.shape[0]):\n",
    "        if i not in D:\n",
    "            net = np.dot(v, c[i]) # is this correct indexing ?\n",
    "            if net > 0:\n",
    "                gradient = net*(1-v[i])\n",
    "            else:\n",
    "                gradient = net*(v[i]-(-1))\n",
    "            v[i] = v[i]*(1-d) + gradient\n",
    "\n",
    "        v = np.where(v>1, 1, v)\n",
    "        v = np.where(v<-1,-1,v)\n",
    "    \n",
    "# theshold and compute final W\n",
    "E = np.where(v > 0, 1, -1)\n",
    "W = computeW(E,c)\n",
    "print(\"Harmony {:.4f} with truth assignment {}\".format(W, E))\n",
    "\n",
    "\n"
   ]
  },
  {
   "cell_type": "code",
   "execution_count": null,
   "metadata": {},
   "outputs": [],
   "source": []
  },
  {
   "cell_type": "code",
   "execution_count": 154,
   "metadata": {},
   "outputs": [],
   "source": [
    "class CoherenceGraph(object):\n",
    "    \n",
    "    def __init__(self,n,s=[]):\n",
    "        self.n = n               # total number of nodes\n",
    "        self.v = np.zeros((n))   # truth assignment of all nodes \n",
    "        self.s = [e for e in s if e < self.n] # list of indecies of nodes that are set to be true\n",
    "        self.c = np.zeros((n,n)) # connections between nodes\n",
    "        self.W = None\n",
    "            \n",
    "    def initConnections(self, seed=89):\n",
    "        np.random.seed(seed)\n",
    "        c = np.random.rand(self.n, self.n) * 2 - 1  # init with random between -1, 1\n",
    "        for i in range(c.shape[0]):\n",
    "            for j in range(c.shape[1]):\n",
    "                c[i][j] = c[j][i] # make symmetric\n",
    "        c = np.where(c>0, 0.4, c)  # set all excitatory connections to 0.4\n",
    "        c = np.where(c<0,-0.6, c)   # set all inhibitory connections to -0.6\n",
    "        c[self.s,:] = 0.5       # Set all d to s connections to 0.5 \n",
    "        c[:,self.s] = 0.5\n",
    "        diag = np.arange(n)\n",
    "        c[diag,diag] = 0                   # Remove connections between d and d\n",
    "        self.c = c\n",
    "        \n",
    "    def computeW(self):\n",
    "        \"\"\"\n",
    "        Compute the coherence(W/W*) for one assignment of nodes\n",
    "        \"\"\"\n",
    "        E = np.where(self.v > 0, 1, -1)\n",
    "        W = np.sum(self.c * np.dot(E.reshape(-1,1), E.reshape(1,-1)))   # W = C * E * E\n",
    "        self.W = W / np.sum(self.c)\n",
    "        return self.W  # W / W* \n",
    "        \n",
    "    def setV(self, v):\n",
    "        self.v = v\n",
    "        \n",
    "    def setS(self, s):\n",
    "        self.s = [e for e in s if e < self.n] # set only valid elements for s\n",
    "        \n",
    "\n",
    "    "
   ]
  },
  {
   "cell_type": "code",
   "execution_count": 115,
   "metadata": {},
   "outputs": [
    {
     "name": "stdout",
     "output_type": "stream",
     "text": [
      "1.0\n",
      "[-1.22222222 -0.33333333  0.40740741  0.40740741 -0.33333333  1.14814815\n",
      "  0.40740741  1.        ]\n"
     ]
    }
   ],
   "source": []
  },
  {
   "cell_type": "code",
   "execution_count": 68,
   "metadata": {},
   "outputs": [
    {
     "name": "stdout",
     "output_type": "stream",
     "text": [
      "[[ 0.90080165  0.80682126  1.32539579]\n",
      " [ 0.80682126  1.11898057  1.52858029]\n",
      " [ 1.32539579  1.52858029  0.04203882]]\n"
     ]
    }
   ],
   "source": [
    "# make a ma\n",
    "\n",
    "a = np.random.rand(3,3)\n",
    "print(a + a.T)"
   ]
  },
  {
   "cell_type": "code",
   "execution_count": 165,
   "metadata": {},
   "outputs": [],
   "source": [
    "class ExhaustiveSearch(object):\n",
    "    \n",
    "    def __init__(self, graph):\n",
    "        self.graph = graph\n",
    "        self.subsets = self.finalSubsets()\n",
    "        self.Ws = None\n",
    "        self.Wmax = None\n",
    "        self.Emax = None\n",
    "        \n",
    "    def allSubsets(self):\n",
    "        \"\"\"\n",
    "        Generate all possible subsets of accepted(+1) and rejected(-1) elements\n",
    "        \"\"\"\n",
    "        n = self.graph.n\n",
    "        subsets = np.zeros((2**n,n))\n",
    "        for i in range(2**n):\n",
    "            binary = np.array(list(bin(i)[2:])).astype(float)\n",
    "            if binary.shape[0] < n:\n",
    "                padding  = np.zeros(n-binary.shape[0])\n",
    "                subsets[i,:] = np.append(padding, binary)\n",
    "            else:\n",
    "                subsets[i,:] = binary\n",
    "        return np.where(subsets > 0, 1, -1)\n",
    "        \n",
    "    def finalSubsets(self):\n",
    "        subs = self.allSubsets()\n",
    "        for s in self.graph.s:\n",
    "            subs = subs[subs[:,s] == 1,] # remove subsets where values in s are not True\n",
    "        return subs\n",
    "    \n",
    "    def search(self):\n",
    "        W = np.zeros((self.subsets.shape[0],))  \n",
    "        for i,E in enumerate(self.subsets):\n",
    "            self.graph.setV(E)  # set the nodes to their values\n",
    "            W[i] = self.graph.computeW()\n",
    "        self.Ws = W\n",
    "        \n",
    "    def getOptimalSolution(self):\n",
    "        max_index = np.argmax(self.Ws)\n",
    "        self.Wmax = self.Ws[max_index]\n",
    "        self.Emax = self.subsets[max_index]\n",
    "        return (self.Wmax, self.Emax)\n",
    "            "
   ]
  },
  {
   "cell_type": "code",
   "execution_count": 164,
   "metadata": {},
   "outputs": [
    {
     "name": "stdout",
     "output_type": "stream",
     "text": [
      "1.2474226804123711 [-1 -1  1  1  1  1  1  1  1  1]\n"
     ]
    }
   ],
   "source": [
    "# init graph\n",
    "G = CoherenceGraph(10, [2,4])\n",
    "G.initConnections(4040)\n",
    "\n",
    "# Exhaustive search\n",
    "ExCoh = ExhaustiveSearch(G)\n",
    "ExCoh.search()\n",
    "Wmax, Emax = ExCoh.getOptimalSolution()\n",
    "\n",
    "print(\"{} {}\".format(Wmax, Emax))\n",
    "#ConCoh = ConnectionistSearch(G)\n",
    "#ConCoh.search()\n",
    "#Harmony, E_h = ConCoh.getSolution()"
   ]
  },
  {
   "cell_type": "code",
   "execution_count": null,
   "metadata": {},
   "outputs": [],
   "source": []
  }
 ],
 "metadata": {
  "kernelspec": {
   "display_name": "Python 3",
   "language": "python",
   "name": "python3"
  },
  "language_info": {
   "codemirror_mode": {
    "name": "ipython",
    "version": 3
   },
   "file_extension": ".py",
   "mimetype": "text/x-python",
   "name": "python",
   "nbconvert_exporter": "python",
   "pygments_lexer": "ipython3",
   "version": "3.5.4"
  }
 },
 "nbformat": 4,
 "nbformat_minor": 2
}
